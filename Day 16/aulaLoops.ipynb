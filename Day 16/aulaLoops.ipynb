{
 "cells": [
  {
   "cell_type": "code",
   "execution_count": null,
   "metadata": {},
   "outputs": [],
   "source": [
    "for i in range(10):\n",
    "    print(i)"
   ]
  },
  {
   "cell_type": "code",
   "execution_count": null,
   "metadata": {},
   "outputs": [],
   "source": [
    "palavra = \"Hoje é dia de happy hour\"\n",
    "for k in palavra:\n",
    "    if k == \"o\":\n",
    "        continue\n",
    "    print(k, end=\"\")\n"
   ]
  },
  {
   "cell_type": "code",
   "execution_count": null,
   "metadata": {},
   "outputs": [],
   "source": [
    "palavra = \"Hoje é dia de happy hour\"\n",
    "\n",
    "for k in palavra:\n",
    "    if k == \"a\":\n",
    "        break\n",
    "    print(k, end=\"\")"
   ]
  },
  {
   "cell_type": "code",
   "execution_count": null,
   "metadata": {},
   "outputs": [],
   "source": [
    "texto = str(input(\"Digite um texto: \"))\n",
    "palavra = str(input(\"Digite uma palavra para quebrar:\"))\n",
    "\n",
    "\n",
    "for i in texto:\n",
    "    print(i) \n",
    "    if texto in palavra:\n",
    "        break\n",
    "    \n",
    "    \n",
    "    "
   ]
  },
  {
   "cell_type": "code",
   "execution_count": null,
   "metadata": {},
   "outputs": [],
   "source": [
    "palavras = \"hoje e dia de happy hour\"\n",
    "vogais = \"aeiou\"\n",
    "contador = 0\n",
    "\n",
    "for i in palavras:\n",
    "    if i in vogais:\n",
    "        contador+=1\n",
    "print(contador)"
   ]
  },
  {
   "cell_type": "code",
   "execution_count": null,
   "metadata": {},
   "outputs": [],
   "source": [
    "palavras = ['Hoje','é','dia','de','happy']\n",
    "\n",
    "palavras.append(\"hour\")\n",
    "\n",
    "text = \">\".join(palavras)\n",
    "text"
   ]
  },
  {
   "cell_type": "code",
   "execution_count": null,
   "metadata": {},
   "outputs": [],
   "source": [
    "for i in range(3):\n",
    "    nota1 = float(input(\"Digite a primeira nota:\"))\n",
    "    nota2 = float(input(\"Digite a segunda nota:\"))\n",
    "\n",
    "    media = (nota1+nota2)/2\n",
    "    print('A media e :',media)"
   ]
  },
  {
   "cell_type": "code",
   "execution_count": null,
   "metadata": {},
   "outputs": [],
   "source": [
    "array = []\n",
    "print('Digite mu texto de 5 palavras escrevendo palavra por palavra e escreva a palvara para quebrar')\n",
    "palavra = input(\"Em qual palavra voce quer quebrar!\")\n",
    "while len(array) < 5:\n",
    "    texto = array.append(input(\"Digite uma palavra do texto\"))\n",
    "    if palavra in array:\n",
    "        break\n",
    "\n",
    "print(array)"
   ]
  },
  {
   "cell_type": "code",
   "execution_count": 3,
   "metadata": {},
   "outputs": [
    {
     "name": "stdout",
     "output_type": "stream",
     "text": [
      "Nome1: carlos\n",
      "Sobrenome: henrique \n",
      "cpf: 34567890\n",
      "rg: 987654\n",
      "\n",
      "Nome2: \n",
      "Sobrenome: \n",
      "cpf: \n",
      "rg: \n",
      "\n",
      "Nome3: \n",
      "Sobrenome: \n",
      "cpf: \n",
      "rg: \n",
      "\n",
      "Nome4: \n",
      "Sobrenome: \n",
      "cpf: \n",
      "rg: \n",
      "\n"
     ]
    }
   ],
   "source": [
    "\n",
    "sistema = 0[]\n",
    "\n",
    "for i in range(4):\n",
    "    nome = str(input('Qual seu nome?'))\n",
    "    sobrenome = str(input(\"Qual seu sobrenome?\"))\n",
    "    cpf = str(input(\"Qual seu cpf?\"))\n",
    "    rg = str(input(\"Qual seu rg?\"))\n",
    "    sistema.append(nome)\n",
    "    sistema.append(sobrenome)\n",
    "    sistema.append(cpf)\n",
    "    sistema.append(rg)\n",
    "\n",
    "\n",
    "    print(f\"Nome{i+1}: {nome}\\nSobrenome: {sobrenome}\\ncpf: {cpf}\\nrg: {rg}\\n\")\n",
    "\n",
    "    \n",
    "\n",
    "\n"
   ]
  },
  {
   "cell_type": "code",
   "execution_count": 4,
   "metadata": {},
   "outputs": [
    {
     "name": "stdout",
     "output_type": "stream",
     "text": [
      "['carlos', 'henrique', '8765', '876'] ['', '', '', '']\n",
      "['', '', '', '']\n",
      "['', '', '', '']\n"
     ]
    }
   ],
   "source": [
    "pessoas = [[],[],[],[]]\n",
    "cont = 0\n",
    "\n",
    "for i in range(4):\n",
    "    nome = str(input('Qual seu nome?'))\n",
    "    sobrenome = str(input(\"Qual seu sobrenome?\"))\n",
    "    cpf = str(input(\"Qual seu cpf?\"))\n",
    "    rg = str(input(\"Qual seu rg?\"))\n",
    "    pessoas[cont].append(nome)\n",
    "    pessoas[cont].append(sobrenome)\n",
    "    pessoas[cont].append(cpf)\n",
    "    pessoas[cont].append(rg)\n",
    "    cont+=1\n",
    "print(pessoas[0])\n",
    "print(pessoas[1])\n",
    "print(pessoas[2])\n",
    "print(pessoas[3])"
   ]
  }
 ],
 "metadata": {
  "kernelspec": {
   "display_name": "Python 3",
   "language": "python",
   "name": "python3"
  },
  "language_info": {
   "codemirror_mode": {
    "name": "ipython",
    "version": 3
   },
   "file_extension": ".py",
   "mimetype": "text/x-python",
   "name": "python",
   "nbconvert_exporter": "python",
   "pygments_lexer": "ipython3",
   "version": "3.9.1"
  },
  "orig_nbformat": 4
 },
 "nbformat": 4,
 "nbformat_minor": 2
}
